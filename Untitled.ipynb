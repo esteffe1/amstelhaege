{
 "cells": [
  {
   "cell_type": "code",
   "execution_count": 1,
   "metadata": {},
   "outputs": [
    {
     "name": "stdout",
     "output_type": "stream",
     "text": [
      "Maison Dimensions: 10.5 by 11.0 meter. Value: 610 KiloEuros \n",
      "Area of Maison is  115.5\n"
     ]
    }
   ],
   "source": [
    "import hage\n",
    "\n",
    "# instantiate the Parrot class\n",
    "msn = hage.amstel(\"Maison\",          11.0, 10.5, 610)\n",
    "egw = hage.amstel(\"EenGezinsWoning\",  8.0,  8.0, 285)\n",
    "blw = hage.amstel(\"Bungalow\",        10.0,  7.5, 399)\n",
    "\n",
    "# access the instance attributes\n",
    "print(\"{} Dimensions: {} by {} meter. Value: {} KiloEuros \".format( msn.name, msn.length,  msn.width, msn.value))\n",
    "area = msn.area()\n",
    "\n",
    "print (\"Area of {} is \".format(msn.name), area)"
   ]
  },
  {
   "cell_type": "code",
   "execution_count": null,
   "metadata": {},
   "outputs": [],
   "source": []
  },
  {
   "cell_type": "code",
   "execution_count": null,
   "metadata": {},
   "outputs": [],
   "source": []
  }
 ],
 "metadata": {
  "kernelspec": {
   "display_name": "Python 3",
   "language": "python",
   "name": "python3"
  },
  "language_info": {
   "codemirror_mode": {
    "name": "ipython",
    "version": 3
   },
   "file_extension": ".py",
   "mimetype": "text/x-python",
   "name": "python",
   "nbconvert_exporter": "python",
   "pygments_lexer": "ipython3",
   "version": "3.7.1"
  }
 },
 "nbformat": 4,
 "nbformat_minor": 2
}
